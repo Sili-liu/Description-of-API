{
  "nbformat": 4,
  "nbformat_minor": 0,
  "metadata": {
    "colab": {
      "name": "wotsky-IoT.ipynb",
      "provenance": [],
      "collapsed_sections": [],
      "toc_visible": true
    },
    "kernelspec": {
      "name": "python3",
      "display_name": "Python 3"
    },
    "language_info": {
      "name": "python"
    }
  },
  "cells": [
    {
      "cell_type": "code",
      "metadata": {
        "id": "whz2A1rpK9AS",
        "colab": {
          "base_uri": "https://localhost:8080/"
        },
        "outputId": "4d7acdce-d56b-4f10-fd08-0dd6687e655a"
      },
      "source": [
        "import pandas as pd\n",
        "import matplotlib.pyplot as plt\n",
        "import plotly.figure_factory as ff\n",
        "import plotly.graph_objects as go\n",
        "import plotly.express as px\n",
        "\n",
        "from sklearn.pipeline import Pipeline\n",
        "from sklearn.feature_extraction.text import CountVectorizer\n",
        "from sklearn.feature_extraction.text import TfidfTransformer\n",
        "from sklearn.ensemble import *\n",
        "from sklearn.model_selection import train_test_split\n",
        "\n",
        "from sklearn.naive_bayes import MultinomialNB\n",
        "from sklearn import svm\n",
        "from sklearn.linear_model import SGDClassifier\n",
        "from sklearn.neighbors import KNeighborsClassifier\n",
        "from sklearn.tree import DecisionTreeClassifier\n",
        "\n",
        "from sklearn.metrics import classification_report,confusion_matrix\n",
        "\n",
        "import warnings\n",
        "warnings.filterwarnings('ignore')\n",
        "\n",
        "!wget https://www.dropbox.com/s/raftdxdg3e5in0q/new-iot-apis.csv\n",
        "data=pd.read_csv(\"new-iot-apis.csv\", sep='______',names=[\"type\", \"label\", \"description\"],engine='python')\n",
        "# print(data.shape)\n",
        "# print(data.dtypes)\n",
        "data=data.drop(data.index[0],axis=0)\n",
        "data['label'] = data['label'].astype(str)\n",
        "data['type'] = data['type'].astype(str)\n",
        "data['description'] = data['description'].astype(str)"
      ],
      "execution_count": 10,
      "outputs": [
        {
          "output_type": "stream",
          "text": [
            "--2021-07-07 20:52:08--  https://www.dropbox.com/s/raftdxdg3e5in0q/new-iot-apis.csv\n",
            "Resolving www.dropbox.com (www.dropbox.com)... 162.125.5.18, 2620:100:601d:18::a27d:512\n",
            "Connecting to www.dropbox.com (www.dropbox.com)|162.125.5.18|:443... connected.\n",
            "HTTP request sent, awaiting response... 301 Moved Permanently\n",
            "Location: /s/raw/raftdxdg3e5in0q/new-iot-apis.csv [following]\n",
            "--2021-07-07 20:52:08--  https://www.dropbox.com/s/raw/raftdxdg3e5in0q/new-iot-apis.csv\n",
            "Reusing existing connection to www.dropbox.com:443.\n",
            "HTTP request sent, awaiting response... 302 Found\n",
            "Location: https://ucb5697e1ce8f0b7575784b815fa.dl.dropboxusercontent.com/cd/0/inline/BR2SiRYfLFEO_06Fn2xbuxyWIwkzxr7KdLJDkWyTHVFuhkTzWgPfBuxLFHOQkatO_nOneaWSHxK5zVjb4TsB-RBhs6FoHJ6_Q77ifaSzmrelSilNhgEoFILC9RBXSmv_zWexwvB-ye6rAyyWXz7ag5R0/file# [following]\n",
            "--2021-07-07 20:52:09--  https://ucb5697e1ce8f0b7575784b815fa.dl.dropboxusercontent.com/cd/0/inline/BR2SiRYfLFEO_06Fn2xbuxyWIwkzxr7KdLJDkWyTHVFuhkTzWgPfBuxLFHOQkatO_nOneaWSHxK5zVjb4TsB-RBhs6FoHJ6_Q77ifaSzmrelSilNhgEoFILC9RBXSmv_zWexwvB-ye6rAyyWXz7ag5R0/file\n",
            "Resolving ucb5697e1ce8f0b7575784b815fa.dl.dropboxusercontent.com (ucb5697e1ce8f0b7575784b815fa.dl.dropboxusercontent.com)... 162.125.5.15, 2620:100:601d:15::a27d:50f\n",
            "Connecting to ucb5697e1ce8f0b7575784b815fa.dl.dropboxusercontent.com (ucb5697e1ce8f0b7575784b815fa.dl.dropboxusercontent.com)|162.125.5.15|:443... connected.\n",
            "HTTP request sent, awaiting response... 200 OK\n",
            "Length: 7841766 (7.5M) [text/plain]\n",
            "Saving to: ‘new-iot-apis.csv.1’\n",
            "\n",
            "new-iot-apis.csv.1  100%[===================>]   7.48M  1.39MB/s    in 5.5s    \n",
            "\n",
            "2021-07-07 20:52:15 (1.36 MB/s) - ‘new-iot-apis.csv.1’ saved [7841766/7841766]\n",
            "\n"
          ],
          "name": "stdout"
        }
      ]
    },
    {
      "cell_type": "code",
      "metadata": {
        "id": "mycRcMwTLmPX",
        "colab": {
          "base_uri": "https://localhost:8080/"
        },
        "outputId": "a84efe37-93d7-4e27-9ff2-bb286f4925c5"
      },
      "source": [
        "data_sensor=data[data['label'].str.contains(\"Sensor\")]\n",
        "data_actuator=data[data['label']==\"Actuator\"]\n",
        "data_none=data[data['label']==\"None\"]\n",
        "\n",
        "print(\"Nº of sensor instances: \", str(data_sensor.shape[0]))\n",
        "print(\"Nº of actuator instances: \", str(data_actuator.shape[0]))\n",
        "print(\"Nº of none instances: \", str(data_none.shape[0]))\n",
        "print(\"----\")\n"
      ],
      "execution_count": 11,
      "outputs": [
        {
          "output_type": "stream",
          "text": [
            "Nº of sensor instances:  17\n",
            "Nº of actuator instances:  38\n",
            "Nº of none instances:  55\n",
            "----\n"
          ],
          "name": "stdout"
        }
      ]
    },
    {
      "cell_type": "code",
      "metadata": {
        "colab": {
          "base_uri": "https://localhost:8080/",
          "height": 1000
        },
        "id": "t7-b55iFaI01",
        "outputId": "27a80c1a-fa3d-4ed6-f6b7-f15a64ca3393"
      },
      "source": [
        "#Figure of distribution\n",
        "fig = go.Figure(\n",
        "    go.Bar(\n",
        "        x=data['label'].value_counts().index,\n",
        "        y=data['label'].value_counts().values)\n",
        ")\n",
        "fig['layout'].update(title={\"text\" : 'Distribution of API','y':0.9,'x':0.5,'xanchor': 'center','yanchor': 'top'}, xaxis_title=\"Category API\",yaxis_title=\"Number of API\")\n",
        "fig.update_layout(width=1000,height=1000)\n",
        "fig"
      ],
      "execution_count": 12,
      "outputs": [
        {
          "output_type": "display_data",
          "data": {
            "text/html": [
              "<html>\n",
              "<head><meta charset=\"utf-8\" /></head>\n",
              "<body>\n",
              "    <div>\n",
              "            <script src=\"https://cdnjs.cloudflare.com/ajax/libs/mathjax/2.7.5/MathJax.js?config=TeX-AMS-MML_SVG\"></script><script type=\"text/javascript\">if (window.MathJax) {MathJax.Hub.Config({SVG: {font: \"STIX-Web\"}});}</script>\n",
              "                <script type=\"text/javascript\">window.PlotlyConfig = {MathJaxConfig: 'local'};</script>\n",
              "        <script src=\"https://cdn.plot.ly/plotly-latest.min.js\"></script>    \n",
              "            <div id=\"f6fea5c3-264c-4470-8737-f73718886dd8\" class=\"plotly-graph-div\" style=\"height:1000px; width:1000px;\"></div>\n",
              "            <script type=\"text/javascript\">\n",
              "                \n",
              "                    window.PLOTLYENV=window.PLOTLYENV || {};\n",
              "                    \n",
              "                if (document.getElementById(\"f6fea5c3-264c-4470-8737-f73718886dd8\")) {\n",
              "                    Plotly.newPlot(\n",
              "                        'f6fea5c3-264c-4470-8737-f73718886dd8',\n",
              "                        [{\"type\": \"bar\", \"x\": [\"None\", \"Actuator\", \"Sensor\"], \"y\": [55, 38, 17]}],\n",
              "                        {\"height\": 1000, \"template\": {\"data\": {\"bar\": [{\"error_x\": {\"color\": \"#2a3f5f\"}, \"error_y\": {\"color\": \"#2a3f5f\"}, \"marker\": {\"line\": {\"color\": \"#E5ECF6\", \"width\": 0.5}}, \"type\": \"bar\"}], \"barpolar\": [{\"marker\": {\"line\": {\"color\": \"#E5ECF6\", \"width\": 0.5}}, \"type\": \"barpolar\"}], \"carpet\": [{\"aaxis\": {\"endlinecolor\": \"#2a3f5f\", \"gridcolor\": \"white\", \"linecolor\": \"white\", \"minorgridcolor\": \"white\", \"startlinecolor\": \"#2a3f5f\"}, \"baxis\": {\"endlinecolor\": \"#2a3f5f\", \"gridcolor\": \"white\", \"linecolor\": \"white\", \"minorgridcolor\": \"white\", \"startlinecolor\": \"#2a3f5f\"}, \"type\": \"carpet\"}], \"choropleth\": [{\"colorbar\": {\"outlinewidth\": 0, \"ticks\": \"\"}, \"type\": \"choropleth\"}], \"contour\": [{\"colorbar\": {\"outlinewidth\": 0, \"ticks\": \"\"}, \"colorscale\": [[0.0, \"#0d0887\"], [0.1111111111111111, \"#46039f\"], [0.2222222222222222, \"#7201a8\"], [0.3333333333333333, \"#9c179e\"], [0.4444444444444444, \"#bd3786\"], [0.5555555555555556, \"#d8576b\"], [0.6666666666666666, \"#ed7953\"], [0.7777777777777778, \"#fb9f3a\"], [0.8888888888888888, \"#fdca26\"], [1.0, \"#f0f921\"]], \"type\": \"contour\"}], \"contourcarpet\": [{\"colorbar\": {\"outlinewidth\": 0, \"ticks\": \"\"}, \"type\": \"contourcarpet\"}], \"heatmap\": [{\"colorbar\": {\"outlinewidth\": 0, \"ticks\": \"\"}, \"colorscale\": [[0.0, \"#0d0887\"], [0.1111111111111111, \"#46039f\"], [0.2222222222222222, \"#7201a8\"], [0.3333333333333333, \"#9c179e\"], [0.4444444444444444, \"#bd3786\"], [0.5555555555555556, \"#d8576b\"], [0.6666666666666666, \"#ed7953\"], [0.7777777777777778, \"#fb9f3a\"], [0.8888888888888888, \"#fdca26\"], [1.0, \"#f0f921\"]], \"type\": \"heatmap\"}], \"heatmapgl\": [{\"colorbar\": {\"outlinewidth\": 0, \"ticks\": \"\"}, \"colorscale\": [[0.0, \"#0d0887\"], [0.1111111111111111, \"#46039f\"], [0.2222222222222222, \"#7201a8\"], [0.3333333333333333, \"#9c179e\"], [0.4444444444444444, \"#bd3786\"], [0.5555555555555556, \"#d8576b\"], [0.6666666666666666, \"#ed7953\"], [0.7777777777777778, \"#fb9f3a\"], [0.8888888888888888, \"#fdca26\"], [1.0, \"#f0f921\"]], \"type\": \"heatmapgl\"}], \"histogram\": [{\"marker\": {\"colorbar\": {\"outlinewidth\": 0, \"ticks\": \"\"}}, \"type\": \"histogram\"}], \"histogram2d\": [{\"colorbar\": {\"outlinewidth\": 0, \"ticks\": \"\"}, \"colorscale\": [[0.0, \"#0d0887\"], [0.1111111111111111, \"#46039f\"], [0.2222222222222222, \"#7201a8\"], [0.3333333333333333, \"#9c179e\"], [0.4444444444444444, \"#bd3786\"], [0.5555555555555556, \"#d8576b\"], [0.6666666666666666, \"#ed7953\"], [0.7777777777777778, \"#fb9f3a\"], [0.8888888888888888, \"#fdca26\"], [1.0, \"#f0f921\"]], \"type\": \"histogram2d\"}], \"histogram2dcontour\": [{\"colorbar\": {\"outlinewidth\": 0, \"ticks\": \"\"}, \"colorscale\": [[0.0, \"#0d0887\"], [0.1111111111111111, \"#46039f\"], [0.2222222222222222, \"#7201a8\"], [0.3333333333333333, \"#9c179e\"], [0.4444444444444444, \"#bd3786\"], [0.5555555555555556, \"#d8576b\"], [0.6666666666666666, \"#ed7953\"], [0.7777777777777778, \"#fb9f3a\"], [0.8888888888888888, \"#fdca26\"], [1.0, \"#f0f921\"]], \"type\": \"histogram2dcontour\"}], \"mesh3d\": [{\"colorbar\": {\"outlinewidth\": 0, \"ticks\": \"\"}, \"type\": \"mesh3d\"}], \"parcoords\": [{\"line\": {\"colorbar\": {\"outlinewidth\": 0, \"ticks\": \"\"}}, \"type\": \"parcoords\"}], \"pie\": [{\"automargin\": true, \"type\": \"pie\"}], \"scatter\": [{\"marker\": {\"colorbar\": {\"outlinewidth\": 0, \"ticks\": \"\"}}, \"type\": \"scatter\"}], \"scatter3d\": [{\"line\": {\"colorbar\": {\"outlinewidth\": 0, \"ticks\": \"\"}}, \"marker\": {\"colorbar\": {\"outlinewidth\": 0, \"ticks\": \"\"}}, \"type\": \"scatter3d\"}], \"scattercarpet\": [{\"marker\": {\"colorbar\": {\"outlinewidth\": 0, \"ticks\": \"\"}}, \"type\": \"scattercarpet\"}], \"scattergeo\": [{\"marker\": {\"colorbar\": {\"outlinewidth\": 0, \"ticks\": \"\"}}, \"type\": \"scattergeo\"}], \"scattergl\": [{\"marker\": {\"colorbar\": {\"outlinewidth\": 0, \"ticks\": \"\"}}, \"type\": \"scattergl\"}], \"scattermapbox\": [{\"marker\": {\"colorbar\": {\"outlinewidth\": 0, \"ticks\": \"\"}}, \"type\": \"scattermapbox\"}], \"scatterpolar\": [{\"marker\": {\"colorbar\": {\"outlinewidth\": 0, \"ticks\": \"\"}}, \"type\": \"scatterpolar\"}], \"scatterpolargl\": [{\"marker\": {\"colorbar\": {\"outlinewidth\": 0, \"ticks\": \"\"}}, \"type\": \"scatterpolargl\"}], \"scatterternary\": [{\"marker\": {\"colorbar\": {\"outlinewidth\": 0, \"ticks\": \"\"}}, \"type\": \"scatterternary\"}], \"surface\": [{\"colorbar\": {\"outlinewidth\": 0, \"ticks\": \"\"}, \"colorscale\": [[0.0, \"#0d0887\"], [0.1111111111111111, \"#46039f\"], [0.2222222222222222, \"#7201a8\"], [0.3333333333333333, \"#9c179e\"], [0.4444444444444444, \"#bd3786\"], [0.5555555555555556, \"#d8576b\"], [0.6666666666666666, \"#ed7953\"], [0.7777777777777778, \"#fb9f3a\"], [0.8888888888888888, \"#fdca26\"], [1.0, \"#f0f921\"]], \"type\": \"surface\"}], \"table\": [{\"cells\": {\"fill\": {\"color\": \"#EBF0F8\"}, \"line\": {\"color\": \"white\"}}, \"header\": {\"fill\": {\"color\": \"#C8D4E3\"}, \"line\": {\"color\": \"white\"}}, \"type\": \"table\"}]}, \"layout\": {\"annotationdefaults\": {\"arrowcolor\": \"#2a3f5f\", \"arrowhead\": 0, \"arrowwidth\": 1}, \"coloraxis\": {\"colorbar\": {\"outlinewidth\": 0, \"ticks\": \"\"}}, \"colorscale\": {\"diverging\": [[0, \"#8e0152\"], [0.1, \"#c51b7d\"], [0.2, \"#de77ae\"], [0.3, \"#f1b6da\"], [0.4, \"#fde0ef\"], [0.5, \"#f7f7f7\"], [0.6, \"#e6f5d0\"], [0.7, \"#b8e186\"], [0.8, \"#7fbc41\"], [0.9, \"#4d9221\"], [1, \"#276419\"]], \"sequential\": [[0.0, \"#0d0887\"], [0.1111111111111111, \"#46039f\"], [0.2222222222222222, \"#7201a8\"], [0.3333333333333333, \"#9c179e\"], [0.4444444444444444, \"#bd3786\"], [0.5555555555555556, \"#d8576b\"], [0.6666666666666666, \"#ed7953\"], [0.7777777777777778, \"#fb9f3a\"], [0.8888888888888888, \"#fdca26\"], [1.0, \"#f0f921\"]], \"sequentialminus\": [[0.0, \"#0d0887\"], [0.1111111111111111, \"#46039f\"], [0.2222222222222222, \"#7201a8\"], [0.3333333333333333, \"#9c179e\"], [0.4444444444444444, \"#bd3786\"], [0.5555555555555556, \"#d8576b\"], [0.6666666666666666, \"#ed7953\"], [0.7777777777777778, \"#fb9f3a\"], [0.8888888888888888, \"#fdca26\"], [1.0, \"#f0f921\"]]}, \"colorway\": [\"#636efa\", \"#EF553B\", \"#00cc96\", \"#ab63fa\", \"#FFA15A\", \"#19d3f3\", \"#FF6692\", \"#B6E880\", \"#FF97FF\", \"#FECB52\"], \"font\": {\"color\": \"#2a3f5f\"}, \"geo\": {\"bgcolor\": \"white\", \"lakecolor\": \"white\", \"landcolor\": \"#E5ECF6\", \"showlakes\": true, \"showland\": true, \"subunitcolor\": \"white\"}, \"hoverlabel\": {\"align\": \"left\"}, \"hovermode\": \"closest\", \"mapbox\": {\"style\": \"light\"}, \"paper_bgcolor\": \"white\", \"plot_bgcolor\": \"#E5ECF6\", \"polar\": {\"angularaxis\": {\"gridcolor\": \"white\", \"linecolor\": \"white\", \"ticks\": \"\"}, \"bgcolor\": \"#E5ECF6\", \"radialaxis\": {\"gridcolor\": \"white\", \"linecolor\": \"white\", \"ticks\": \"\"}}, \"scene\": {\"xaxis\": {\"backgroundcolor\": \"#E5ECF6\", \"gridcolor\": \"white\", \"gridwidth\": 2, \"linecolor\": \"white\", \"showbackground\": true, \"ticks\": \"\", \"zerolinecolor\": \"white\"}, \"yaxis\": {\"backgroundcolor\": \"#E5ECF6\", \"gridcolor\": \"white\", \"gridwidth\": 2, \"linecolor\": \"white\", \"showbackground\": true, \"ticks\": \"\", \"zerolinecolor\": \"white\"}, \"zaxis\": {\"backgroundcolor\": \"#E5ECF6\", \"gridcolor\": \"white\", \"gridwidth\": 2, \"linecolor\": \"white\", \"showbackground\": true, \"ticks\": \"\", \"zerolinecolor\": \"white\"}}, \"shapedefaults\": {\"line\": {\"color\": \"#2a3f5f\"}}, \"ternary\": {\"aaxis\": {\"gridcolor\": \"white\", \"linecolor\": \"white\", \"ticks\": \"\"}, \"baxis\": {\"gridcolor\": \"white\", \"linecolor\": \"white\", \"ticks\": \"\"}, \"bgcolor\": \"#E5ECF6\", \"caxis\": {\"gridcolor\": \"white\", \"linecolor\": \"white\", \"ticks\": \"\"}}, \"title\": {\"x\": 0.05}, \"xaxis\": {\"automargin\": true, \"gridcolor\": \"white\", \"linecolor\": \"white\", \"ticks\": \"\", \"title\": {\"standoff\": 15}, \"zerolinecolor\": \"white\", \"zerolinewidth\": 2}, \"yaxis\": {\"automargin\": true, \"gridcolor\": \"white\", \"linecolor\": \"white\", \"ticks\": \"\", \"title\": {\"standoff\": 15}, \"zerolinecolor\": \"white\", \"zerolinewidth\": 2}}}, \"title\": {\"text\": \"Distribution of API\", \"x\": 0.5, \"xanchor\": \"center\", \"y\": 0.9, \"yanchor\": \"top\"}, \"width\": 1000, \"xaxis\": {\"title\": {\"text\": \"Category API\"}}, \"yaxis\": {\"title\": {\"text\": \"Number of API\"}}},\n",
              "                        {\"responsive\": true}\n",
              "                    ).then(function(){\n",
              "                            \n",
              "var gd = document.getElementById('f6fea5c3-264c-4470-8737-f73718886dd8');\n",
              "var x = new MutationObserver(function (mutations, observer) {{\n",
              "        var display = window.getComputedStyle(gd).display;\n",
              "        if (!display || display === 'none') {{\n",
              "            console.log([gd, 'removed!']);\n",
              "            Plotly.purge(gd);\n",
              "            observer.disconnect();\n",
              "        }}\n",
              "}});\n",
              "\n",
              "// Listen for the removal of the full notebook cells\n",
              "var notebookContainer = gd.closest('#notebook-container');\n",
              "if (notebookContainer) {{\n",
              "    x.observe(notebookContainer, {childList: true});\n",
              "}}\n",
              "\n",
              "// Listen for the clearing of the current output cell\n",
              "var outputEl = gd.closest('.output');\n",
              "if (outputEl) {{\n",
              "    x.observe(outputEl, {childList: true});\n",
              "}}\n",
              "\n",
              "                        })\n",
              "                };\n",
              "                \n",
              "            </script>\n",
              "        </div>\n",
              "</body>\n",
              "</html>"
            ]
          },
          "metadata": {
            "tags": []
          }
        }
      ]
    },
    {
      "cell_type": "code",
      "metadata": {
        "colab": {
          "base_uri": "https://localhost:8080/"
        },
        "id": "LqzyN3Z3x0s5",
        "outputId": "61089ab3-86e9-4d76-a365-14174cc76b4d"
      },
      "source": [
        "X_train_1, X_test_1, y_train_1, y_test_1 = train_test_split(data_sensor['description'], data_sensor['label'], test_size=0.4,random_state=12) # good results with 12\n",
        "X_train_2, X_test_2, y_train_2, y_test_2 = train_test_split(data_actuator['description'], data_actuator['label'], test_size=0.4,random_state=12)\n",
        "X_train_3, X_test_3, y_train_3, y_test_3 = train_test_split(data_none['description'], data_none['label'], test_size=0.4,random_state=12)\n",
        "X_train=pd.concat([X_train_1,X_train_2,X_train_3])\n",
        "X_test=pd.concat([X_test_1,X_test_2,X_test_3])\n",
        "y_train=pd.concat([y_train_1,y_train_2,y_train_3])\n",
        "y_test=pd.concat([y_test_1,y_test_2,y_test_3])\n",
        "\n",
        "print(\"train data instances:\", X_train.shape[0])\n",
        "print(\"\\t-train sensors instances -> \"+str(X_train_1.shape[0]))\n",
        "print(\"\\t-train actuators instances -> \"+str(X_train_2.shape[0]))\n",
        "print(\"\\t-train none instances -> \"+str(X_train_3.shape[0]))\n",
        "print(\"test data instances:\", X_test.shape[0])\n",
        "print(\"\\t-test sensors instances -> \"+str(X_test_1.shape[0]))\n",
        "print(\"\\t-test actuators instances -> \"+str(X_test_2.shape[0]))\n",
        "print(\"\\t-test none instances -> \"+str(X_test_3.shape[0]))\n"
      ],
      "execution_count": 13,
      "outputs": [
        {
          "output_type": "stream",
          "text": [
            "train data instances: 65\n",
            "\t-train sensors instances -> 10\n",
            "\t-train actuators instances -> 22\n",
            "\t-train none instances -> 33\n",
            "test data instances: 45\n",
            "\t-test sensors instances -> 7\n",
            "\t-test actuators instances -> 16\n",
            "\t-test none instances -> 22\n"
          ],
          "name": "stdout"
        }
      ]
    },
    {
      "cell_type": "code",
      "metadata": {
        "id": "vh2BqEs5TNI9"
      },
      "source": [
        "def plot_bat(report):\n",
        "  plt.bar(name, report['accuracy'] )\n",
        "  plt.ylim(0.0,1.0)\n",
        "  plt.ylabel('Accuracy')\n",
        "\n",
        "  # plt.bar(name, report ['Actuator']['precision'] )\n",
        "  # plt.ylim(0.0,1.0)\n",
        "  # plt.ylabel('Actuator-precision')\n",
        "\n",
        "  # plt.bar(name, report ['Sensor']['precision'] )\n",
        "  # plt.ylim(0.0,1.0)\n",
        "  # plt.ylabel('Sensor-precision')\n",
        "\n",
        "  # plt.bar(name, report ['None']['precision'] )\n",
        "  # plt.ylim(0.0,1.0)\n",
        "  # plt.ylabel('None-precision')\n",
        "\n",
        "  # plt.bar(name, report ['Actuator']['recall'] )\n",
        "  # plt.ylim(0.0,1.0)\n",
        "  # plt.ylabel('Actuator-recall')\n",
        "\n",
        "  # plt.bar(name, report ['Sensor']['recall'] )\n",
        "  # plt.ylim(0.0,1.0)\n",
        "  # plt.ylabel('Sensor-recall')\n",
        "\n",
        "  # plt.bar(name, report ['None']['recall'] )\n",
        "  # plt.ylim(0.0,1.0)\n",
        "  # plt.ylabel('None-recall')\n"
      ],
      "execution_count": 14,
      "outputs": []
    },
    {
      "cell_type": "code",
      "metadata": {
        "colab": {
          "base_uri": "https://localhost:8080/",
          "height": 1000
        },
        "id": "j6xP8InDqdvV",
        "outputId": "b3db81c5-f7a2-4ba3-b4f1-4e5a9f78aa03"
      },
      "source": [
        "algorithms = { 'MNB' : MultinomialNB(),\n",
        "         'DTree': DecisionTreeClassifier(),\n",
        "         'RF' : RandomForestClassifier(),\n",
        "         'ADA' : AdaBoostClassifier(), \n",
        "         'SVM' : svm.SVC(decision_function_shape='ovo'), \n",
        "         'SGD': SGDClassifier(), \n",
        "         'KNN': KNeighborsClassifier()\n",
        "        } # add here classifiers\n",
        "fscores = []\n",
        "score = []\n",
        "for name, algorithm in algorithms.items():\n",
        "  pipeline = Pipeline([\n",
        "                      ('bow',CountVectorizer()),\n",
        "                      ('tfidf',TfidfTransformer()),\n",
        "                      ('classifier',algorithm)\n",
        "  ])\n",
        "  pipeline.fit(X_train,y_train)\n",
        "  predictions = pipeline.predict(X_test)\n",
        "  report = classification_report(y_test, predictions, output_dict=True, zero_division='warn')\n",
        "  fscores.append([name, report['Sensor']['f1-score'], report['Actuator']['f1-score'], report['None']['f1-score']])\n",
        "  score.append([name, (report['Sensor']['precision'],report['Sensor']['recall']), (report['Actuator']['precision'],report['Actuator']['recall']), (report['None']['precision'],report['None']['precision'])])\n",
        "  print(name)\n",
        "  print(classification_report(y_test, predictions))\n",
        "  print(\"************************************\")\n",
        "  plot_bat(report)\n"
      ],
      "execution_count": 15,
      "outputs": [
        {
          "output_type": "stream",
          "text": [
            "MNB\n",
            "              precision    recall  f1-score   support\n",
            "\n",
            "    Actuator       0.00      0.00      0.00        16\n",
            "        None       0.49      1.00      0.66        22\n",
            "      Sensor       0.00      0.00      0.00         7\n",
            "\n",
            "    accuracy                           0.49        45\n",
            "   macro avg       0.16      0.33      0.22        45\n",
            "weighted avg       0.24      0.49      0.32        45\n",
            "\n",
            "************************************\n",
            "DTree\n",
            "              precision    recall  f1-score   support\n",
            "\n",
            "    Actuator       0.50      0.50      0.50        16\n",
            "        None       0.67      0.73      0.70        22\n",
            "      Sensor       0.20      0.14      0.17         7\n",
            "\n",
            "    accuracy                           0.56        45\n",
            "   macro avg       0.46      0.46      0.45        45\n",
            "weighted avg       0.53      0.56      0.54        45\n",
            "\n",
            "************************************\n",
            "RF\n",
            "              precision    recall  f1-score   support\n",
            "\n",
            "    Actuator       0.64      0.44      0.52        16\n",
            "        None       0.65      1.00      0.79        22\n",
            "      Sensor       0.00      0.00      0.00         7\n",
            "\n",
            "    accuracy                           0.64        45\n",
            "   macro avg       0.43      0.48      0.43        45\n",
            "weighted avg       0.54      0.64      0.57        45\n",
            "\n",
            "************************************\n",
            "ADA\n",
            "              precision    recall  f1-score   support\n",
            "\n",
            "    Actuator       0.43      0.38      0.40        16\n",
            "        None       0.59      0.73      0.65        22\n",
            "      Sensor       0.50      0.29      0.36         7\n",
            "\n",
            "    accuracy                           0.53        45\n",
            "   macro avg       0.51      0.46      0.47        45\n",
            "weighted avg       0.52      0.53      0.52        45\n",
            "\n",
            "************************************\n",
            "SVM\n",
            "              precision    recall  f1-score   support\n",
            "\n",
            "    Actuator       0.60      0.19      0.29        16\n",
            "        None       0.55      1.00      0.71        22\n",
            "      Sensor       0.00      0.00      0.00         7\n",
            "\n",
            "    accuracy                           0.56        45\n",
            "   macro avg       0.38      0.40      0.33        45\n",
            "weighted avg       0.48      0.56      0.45        45\n",
            "\n",
            "************************************\n",
            "SGD\n",
            "              precision    recall  f1-score   support\n",
            "\n",
            "    Actuator       0.50      0.62      0.56        16\n",
            "        None       0.71      0.68      0.70        22\n",
            "      Sensor       0.25      0.14      0.18         7\n",
            "\n",
            "    accuracy                           0.58        45\n",
            "   macro avg       0.49      0.48      0.48        45\n",
            "weighted avg       0.57      0.58      0.57        45\n",
            "\n",
            "************************************\n",
            "KNN\n",
            "              precision    recall  f1-score   support\n",
            "\n",
            "    Actuator       0.50      0.44      0.47        16\n",
            "        None       0.58      0.82      0.68        22\n",
            "      Sensor       0.00      0.00      0.00         7\n",
            "\n",
            "    accuracy                           0.56        45\n",
            "   macro avg       0.36      0.42      0.38        45\n",
            "weighted avg       0.46      0.56      0.50        45\n",
            "\n",
            "************************************\n"
          ],
          "name": "stdout"
        },
        {
          "output_type": "display_data",
          "data": {
            "image/png": "[encoded data removed]",
            "text/plain": [
              "<Figure size 432x288 with 1 Axes>"
            ]
          },
          "metadata": {
            "tags": [],
            "needs_background": "light"
          }
        }
      ]
    },
    {
      "cell_type": "code",
      "metadata": {
        "colab": {
          "base_uri": "https://localhost:8080/",
          "height": 1000
        },
        "id": "GDl2l9BgXhJl",
        "outputId": "a33f7b1e-4f48-4550-f7a6-f054a58e8a26"
      },
      "source": [
        "plt.figure(figsize=(8, 24)) # 4, 12 regular size\n",
        "\n",
        "sensor_lines = []\n",
        "actuator_lines = []\n",
        "none_lines = []\n",
        "for name, sensors_tuple, actuator_tuple, none_tuple in score:\n",
        "  plt.subplot(3, 1, 1)\n",
        "  point_sensor = plt.scatter(sensors_tuple[0], sensors_tuple[1], s=120, marker='+')\n",
        "  sensor_lines.append(point_sensor)\n",
        "  plt.subplot(3, 1, 2)\n",
        "  actuator_point = plt.scatter(actuator_tuple[0], actuator_tuple[1], s=120, marker='+')\n",
        "  actuator_lines.append(actuator_point)\n",
        "  plt.subplot(3, 1, 3)\n",
        "  none_point = plt.scatter(none_tuple[0], none_tuple[1], s=120, marker='+')\n",
        "  none_lines.append(none_point)\n",
        "\n",
        "\n",
        "plt.subplot(3, 1, 1)\n",
        "plt.title(\"Sensors classification\")\n",
        "plt.legend(sensor_lines, algorithms.keys(), bbox_to_anchor=(1.04,1), loc=\"upper left\")\n",
        "plt.ylim(0,1)\n",
        "plt.xlim(0,1)\n",
        "plt.axhline(y=0.5, color='gray', linestyle='dotted')\n",
        "plt.vlines((0.5,), ymin=0, ymax=1, color='gray', linestyle='dotted')\n",
        "plt.xlabel('Precision')\n",
        "plt.ylabel('Recall')  \n",
        "plt.subplot(3, 1, 2)\n",
        "plt.title(\"Actuator classification\")\n",
        "plt.legend(actuator_lines, algorithms.keys(), bbox_to_anchor=(1.04,1), loc=\"upper left\")\n",
        "plt.ylim(0,1)\n",
        "plt.xlim(0,1)\n",
        "plt.axhline(y=0.5, color='gray', linestyle='dotted')\n",
        "plt.vlines((0.5,), ymin=0, ymax=1, color='gray', linestyle='dotted')\n",
        "plt.xlabel('Precision')\n",
        "plt.ylabel('Recall')  \n",
        "plt.subplot(3, 1, 3)\n",
        "plt.title(\"None classification\")\n",
        "plt.legend(none_lines, algorithms.keys(), bbox_to_anchor=(1.04,1), loc=\"upper left\")\n",
        "plt.ylim(0,1)\n",
        "plt.xlim(0,1)\n",
        "plt.axhline(y=0.5, color='gray', linestyle='dotted')\n",
        "plt.vlines((0.5,), ymin=0, ymax=1, color='gray', linestyle='dotted')\n",
        "plt.xlabel('Precision')\n",
        "plt.ylabel('Recall')  "
      ],
      "execution_count": 16,
      "outputs": [
        {
          "output_type": "execute_result",
          "data": {
            "text/plain": [
              "Text(0, 0.5, 'Recall')"
            ]
          },
          "metadata": {
            "tags": []
          },
          "execution_count": 16
        },
        {
          "output_type": "display_data",
          "data": {
            "image/png": "[encoded data removed]",
            "text/plain": [
              "<Figure size 576x1728 with 3 Axes>"
            ]
          },
          "metadata": {
            "tags": [],
            "needs_background": "light"
          }
        }
      ]
    }
  ]
}